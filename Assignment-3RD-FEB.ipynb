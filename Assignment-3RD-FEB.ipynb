{
 "cells": [
  {
   "cell_type": "code",
   "execution_count": 1,
   "id": "02a859ac",
   "metadata": {},
   "outputs": [
    {
     "data": {
      "text/plain": [
       "[1, 3, 5, 7, 9, 11, 13, 15, 17, 19, 21, 23, 25]"
      ]
     },
     "execution_count": 1,
     "metadata": {},
     "output_type": "execute_result"
    }
   ],
   "source": [
    "#QUES1\n",
    "#def keyword is used to create a function\n",
    "def oddnumlist(li):\n",
    "    \"\"\"this function return odd numbers from the list\"\"\"\n",
    "    return [i for i in li if i%2 != 0]\n",
    "oddnumlist(list(range(1,26)))"
   ]
  },
  {
   "cell_type": "code",
   "execution_count": 5,
   "id": "b3551d75",
   "metadata": {},
   "outputs": [
    {
     "data": {
      "text/plain": [
       "list"
      ]
     },
     "execution_count": 5,
     "metadata": {},
     "output_type": "execute_result"
    }
   ],
   "source": [
    "type(oddnumlist(list(range(1,26))))"
   ]
  },
  {
   "cell_type": "code",
   "execution_count": 7,
   "id": "3383cb58",
   "metadata": {},
   "outputs": [
    {
     "name": "stdout",
     "output_type": "stream",
     "text": [
      "10\n",
      "6\n"
     ]
    }
   ],
   "source": [
    "#QUES2\n",
    "''' we use *args and **kwargs as an argument when we are unsure about the number of argument a user is going to pass in the function'''\n",
    "#example1\n",
    "def addnum(*num):\n",
    "    \"\"\"this function adds nth number of parameters given by user\"\"\"\n",
    "    summ = 0\n",
    "    for i in num:\n",
    "        summ += i\n",
    "    return summ\n",
    "print(addnum(1,2,3,4))\n",
    "print(addnum(1,2,3))\n",
    "        "
   ]
  },
  {
   "cell_type": "code",
   "execution_count": 10,
   "id": "dbd651a2",
   "metadata": {},
   "outputs": [
    {
     "data": {
      "text/plain": [
       "{'anjali': 94, 'aryan': 96}"
      ]
     },
     "execution_count": 10,
     "metadata": {},
     "output_type": "execute_result"
    }
   ],
   "source": [
    "#example2\n",
    "def myfunc(**kwargs):\n",
    "    \"\"\"this function displays the student with their marks\"\"\"\n",
    "    return kwargs\n",
    "myfunc(anjali = 94,aryan = 96)\n",
    "            \n",
    "    "
   ]
  },
  {
   "cell_type": "code",
   "execution_count": 11,
   "id": "96ca3c78",
   "metadata": {},
   "outputs": [
    {
     "name": "stdout",
     "output_type": "stream",
     "text": [
      "2\n",
      "4\n",
      "6\n",
      "8\n",
      "10\n"
     ]
    }
   ],
   "source": [
    "#QUES3 \n",
    "#iterator is an object that is used to iterate over iterables like list, tuple, dictionary etc\n",
    "#it is initialized using the iter() method and next() method for iteration\n",
    "li= [2, 4, 6, 8, 10, 12, 14, 16, 18, 20]\n",
    "list_iterator = iter(li)\n",
    "for i in range(5):\n",
    "    print(next(list_iterator))"
   ]
  },
  {
   "cell_type": "code",
   "execution_count": 12,
   "id": "d4a2a0ee",
   "metadata": {},
   "outputs": [
    {
     "name": "stdout",
     "output_type": "stream",
     "text": [
      "1\n",
      "2\n",
      "3\n"
     ]
    }
   ],
   "source": [
    "#QUES4\n",
    "#a generator function is defined like a normal function, but whenever it needs to generate a value, it uses yield keyword raher than return\n",
    "#if a boy used yield keyword, the function automatically becomes a generator function\n",
    "def genfunc():\n",
    "    yield 1\n",
    "    yield 2\n",
    "    yield 3\n",
    "for i in genfunc():\n",
    "    print(i)\n"
   ]
  },
  {
   "cell_type": "code",
   "execution_count": 28,
   "id": "7e8e082a",
   "metadata": {},
   "outputs": [
    {
     "name": "stdout",
     "output_type": "stream",
     "text": [
      "1\n",
      "2\n",
      "3\n",
      "5\n",
      "7\n",
      "11\n",
      "13\n",
      "17\n",
      "19\n",
      "23\n",
      "29\n",
      "31\n",
      "37\n",
      "41\n",
      "43\n",
      "47\n",
      "53\n",
      "59\n",
      "61\n",
      "67\n",
      "71\n",
      "73\n",
      "79\n",
      "83\n",
      "89\n"
     ]
    }
   ],
   "source": [
    "#QUES5\n",
    "def genprimenum():\n",
    "    for i in range(1,1000):\n",
    "        count = 0\n",
    "        for j in range(2,i):\n",
    "            if i%j == 0:\n",
    "                count += 1\n",
    "        if count==0:\n",
    "            yield i\n",
    "            \n",
    "    \n",
    "     \n",
    "primenum = iter(genprimenum())\n",
    "for i in range(25):\n",
    "    print(next(primenum))\n",
    "    "
   ]
  },
  {
   "cell_type": "code",
   "execution_count": 29,
   "id": "7c3f61fb",
   "metadata": {},
   "outputs": [
    {
     "name": "stdout",
     "output_type": "stream",
     "text": [
      "0\n",
      "1\n",
      "1\n",
      "2\n",
      "3\n",
      "5\n",
      "8\n",
      "13\n",
      "21\n",
      "34\n"
     ]
    }
   ],
   "source": [
    "#QUES6- TO PRINT FIRST 10 FIBONACCI NUMBER\n",
    "n = 10\n",
    "counter = 0\n",
    "a,b = 0,1\n",
    "while(counter<n):\n",
    "    print(a)\n",
    "    c =a+b\n",
    "    a=b\n",
    "    b=c\n",
    "    counter = counter +1"
   ]
  },
  {
   "cell_type": "code",
   "execution_count": 30,
   "id": "c31f00f0",
   "metadata": {},
   "outputs": [
    {
     "name": "stdout",
     "output_type": "stream",
     "text": [
      "['p', 'w', 's', 'k', 'i', 'l', 'l', 's']\n"
     ]
    }
   ],
   "source": [
    "str= \"pwskills\"\n",
    "li=[i for i in str]\n",
    "print(li)"
   ]
  },
  {
   "cell_type": "code",
   "execution_count": 31,
   "id": "fbd24f84",
   "metadata": {},
   "outputs": [
    {
     "name": "stdout",
     "output_type": "stream",
     "text": [
      "enter any number565\n",
      "the 565 number is palindrome.\n"
     ]
    }
   ],
   "source": [
    "num = int(input(\"enter any number\"))\n",
    "temp = num\n",
    "rev = 0\n",
    "while(num>0):\n",
    "    dig = num%10\n",
    "    rev =rev*10 + dig\n",
    "    num = num //10\n",
    "if(temp==rev):\n",
    "    print(\"the {0} number is palindrome.\".format(temp))\n",
    "else:\n",
    "    print(\"not a palindrome!\")"
   ]
  },
  {
   "cell_type": "code",
   "execution_count": 34,
   "id": "728b4f05",
   "metadata": {},
   "outputs": [
    {
     "name": "stdout",
     "output_type": "stream",
     "text": [
      "[1, 3, 5, 7, 9, 11, 13, 15, 17, 19, 21, 23, 25, 27, 29, 31, 33, 35, 37, 39, 41, 43, 45, 47, 49, 51, 53, 55, 57, 59, 61, 63, 65, 67, 69, 71, 73, 75, 77, 79, 81, 83, 85, 87, 89, 91, 93, 95, 97, 99]\n"
     ]
    }
   ],
   "source": [
    "li1 = [i for i in range(1,101)]\n",
    "li2 = [i for i in li1 if i%2 != 0]\n",
    "print(li2)"
   ]
  },
  {
   "cell_type": "code",
   "execution_count": null,
   "id": "6b76525e",
   "metadata": {},
   "outputs": [],
   "source": []
  }
 ],
 "metadata": {
  "kernelspec": {
   "display_name": "Python 3 (ipykernel)",
   "language": "python",
   "name": "python3"
  },
  "language_info": {
   "codemirror_mode": {
    "name": "ipython",
    "version": 3
   },
   "file_extension": ".py",
   "mimetype": "text/x-python",
   "name": "python",
   "nbconvert_exporter": "python",
   "pygments_lexer": "ipython3",
   "version": "3.9.12"
  }
 },
 "nbformat": 4,
 "nbformat_minor": 5
}
